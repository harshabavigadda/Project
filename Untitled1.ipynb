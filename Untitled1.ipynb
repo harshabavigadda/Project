{
  "nbformat": 4,
  "nbformat_minor": 0,
  "metadata": {
    "colab": {
      "provenance": [],
      "mount_file_id": "15x6MfyQp4W5wYgpWPxpVzmBsilQ0I2WU",
      "authorship_tag": "ABX9TyNjsDWB4heQ6ba0kCFtNbQN",
      "include_colab_link": true
    },
    "kernelspec": {
      "name": "python3",
      "display_name": "Python 3"
    },
    "language_info": {
      "name": "python"
    }
  },
  "cells": [
    {
      "cell_type": "markdown",
      "metadata": {
        "id": "view-in-github",
        "colab_type": "text"
      },
      "source": [
        "<a href=\"https://colab.research.google.com/github/harshabavigadda/Project/blob/main/Untitled1.ipynb\" target=\"_parent\"><img src=\"https://colab.research.google.com/assets/colab-badge.svg\" alt=\"Open In Colab\"/></a>"
      ]
    },
    {
      "cell_type": "code",
      "source": [
        "!pip install pymupdf\n"
      ],
      "metadata": {
        "id": "ud6RuBCX58cE"
      },
      "execution_count": null,
      "outputs": []
    },
    {
      "cell_type": "code",
      "source": [
        "import os\n",
        "\n",
        "output_folder = '/content/drive/MyDrive/Colab Notebooks/output_images'\n",
        "os.makedirs(output_folder, exist_ok=True)\n"
      ],
      "metadata": {
        "id": "oUq9TNSZ78HU"
      },
      "execution_count": null,
      "outputs": []
    },
    {
      "cell_type": "code",
      "source": [
        "import os\n",
        "import fitz\n",
        "from PIL import Image\n",
        "from io import BytesIO\n",
        "\n",
        "def extract_images_from_pdf(pdf_path, output_folder):\n",
        "    doc = fitz.open(pdf_path)\n",
        "\n",
        "    for page_num in range(doc.page_count):\n",
        "        page = doc[page_num]\n",
        "        images = page.get_images(full=True)\n",
        "\n",
        "        for img_index, img_info in enumerate(images):\n",
        "            img_index += 1\n",
        "            image_index = img_info[0]\n",
        "            base_image = doc.extract_image(image_index)\n",
        "            image_bytes = base_image[\"image\"]\n",
        "\n",
        "            image = Image.open(BytesIO(image_bytes))\n",
        "            image_path = f\"{output_folder}/page{page_num + 1}_img{img_index}.png\"\n",
        "            image.save(image_path)\n",
        "\n",
        "            print(f\"Image saved: {image_path}\")\n",
        "\n",
        "    doc.close()\n",
        "\n",
        "\n",
        "output_folder = '/content/drive/MyDrive/Colab Notebooks/Images'\n",
        "os.makedirs(output_folder, exist_ok=True)\n",
        "\n",
        "extract_images_from_pdf('/content/drive/MyDrive/Colab Notebooks/AspenIcarusPIDV11_Ref.pdf', output_folder)\n"
      ],
      "metadata": {
        "id": "XFK1SdjB8B2L"
      },
      "execution_count": null,
      "outputs": []
    }
  ]
}